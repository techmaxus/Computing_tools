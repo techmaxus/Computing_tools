{
 "cells": [
  {
   "cell_type": "code",
   "execution_count": 1,
   "metadata": {},
   "outputs": [
    {
     "name": "stderr",
     "output_type": "stream",
     "text": [
      "2022-03-15 13:08:34.862779: W tensorflow/stream_executor/platform/default/dso_loader.cc:64] Could not load dynamic library 'libcudart.so.11.0'; dlerror: libcudart.so.11.0: cannot open shared object file: No such file or directory\n",
      "2022-03-15 13:08:34.862824: I tensorflow/stream_executor/cuda/cudart_stub.cc:29] Ignore above cudart dlerror if you do not have a GPU set up on your machine.\n"
     ]
    }
   ],
   "source": [
    "import numpy as np\n",
    "import tensorflow as tf\n",
    "from tensorflow.keras import datasets, utils\n",
    "from tensorflow.keras import models, layers, losses\n",
    "\n",
    "import logging\n",
    "logging.getLogger(\"tensorflow\").setLevel(logging.DEBUG)\n",
    "import pathlib"
   ]
  },
  {
   "cell_type": "code",
   "execution_count": 2,
   "metadata": {},
   "outputs": [],
   "source": [
    "(x_train, y_train), (x_test, y_test) = datasets.mnist.load_data()\n"
   ]
  },
  {
   "cell_type": "code",
   "execution_count": 3,
   "metadata": {},
   "outputs": [
    {
     "name": "stdout",
     "output_type": "stream",
     "text": [
      "(60000, 28, 28, 1)\n",
      "(10000, 28, 28, 1)\n"
     ]
    }
   ],
   "source": [
    "# data normalized\n",
    "x_train = x_train/255.\n",
    "x_test  = x_test/255.\n",
    "\n",
    "# reshape for model input\n",
    "x_train = x_train.reshape(-1,28,28,1)\n",
    "x_test = x_test.reshape(-1,28,28,1)\n",
    "\n",
    "print(x_train.shape)\n",
    "print(x_test.shape)"
   ]
  },
  {
   "cell_type": "code",
   "execution_count": 4,
   "metadata": {},
   "outputs": [
    {
     "name": "stdout",
     "output_type": "stream",
     "text": [
      "(60000, 10)\n",
      "(10000, 10)\n"
     ]
    }
   ],
   "source": [
    "y_train = utils.to_categorical(y_train)\n",
    "y_test  = utils.to_categorical(y_test)\n",
    "\n",
    "print(y_train.shape)\n",
    "print(y_test.shape)"
   ]
  },
  {
   "cell_type": "code",
   "execution_count": 5,
   "metadata": {},
   "outputs": [],
   "source": [
    "input_shape = (28,28,1) # img_rows, img_colums, color_channels\n",
    "num_classes = 10"
   ]
  },
  {
   "cell_type": "code",
   "execution_count": 6,
   "metadata": {},
   "outputs": [
    {
     "name": "stdout",
     "output_type": "stream",
     "text": [
      "Model: \"model\"\n",
      "_________________________________________________________________\n",
      " Layer (type)                Output Shape              Param #   \n",
      "=================================================================\n",
      " input_1 (InputLayer)        [(None, 28, 28, 1)]       0         \n",
      "                                                                 \n",
      " conv2d (Conv2D)             (None, 28, 28, 16)        160       \n",
      "                                                                 \n",
      " max_pooling2d (MaxPooling2D  (None, 14, 14, 16)       0         \n",
      " )                                                               \n",
      "                                                                 \n",
      " conv2d_1 (Conv2D)           (None, 14, 14, 16)        2320      \n",
      "                                                                 \n",
      " max_pooling2d_1 (MaxPooling  (None, 7, 7, 16)         0         \n",
      " 2D)                                                             \n",
      "                                                                 \n",
      " flatten (Flatten)           (None, 784)               0         \n",
      "                                                                 \n",
      " dense (Dense)               (None, 64)                50240     \n",
      "                                                                 \n",
      " dense_1 (Dense)             (None, 10)                650       \n",
      "                                                                 \n",
      "=================================================================\n",
      "Total params: 53,370\n",
      "Trainable params: 53,370\n",
      "Non-trainable params: 0\n",
      "_________________________________________________________________\n"
     ]
    },
    {
     "name": "stderr",
     "output_type": "stream",
     "text": [
      "2022-03-15 13:08:45.813779: W tensorflow/stream_executor/platform/default/dso_loader.cc:64] Could not load dynamic library 'libcuda.so.1'; dlerror: libcuda.so.1: cannot open shared object file: No such file or directory\n",
      "2022-03-15 13:08:45.813863: W tensorflow/stream_executor/cuda/cuda_driver.cc:269] failed call to cuInit: UNKNOWN ERROR (303)\n",
      "2022-03-15 13:08:45.813914: I tensorflow/stream_executor/cuda/cuda_diagnostics.cc:156] kernel driver does not appear to be running on this host (kanav-Inspiron-3505): /proc/driver/nvidia/version does not exist\n",
      "2022-03-15 13:08:45.814805: I tensorflow/core/platform/cpu_feature_guard.cc:151] This TensorFlow binary is optimized with oneAPI Deep Neural Network Library (oneDNN) to use the following CPU instructions in performance-critical operations:  AVX2 FMA\n",
      "To enable them in other operations, rebuild TensorFlow with the appropriate compiler flags.\n"
     ]
    }
   ],
   "source": [
    "inputs = layers.Input(shape=input_shape)\n",
    "x = layers.Conv2D(16, kernel_size = (3, 3), activation = 'relu', padding = 'same')(inputs)\n",
    "x = layers.MaxPool2D(pool_size = (2, 2))(x)\n",
    "# 2nd Conv layer        \n",
    "x = layers.Conv2D(16, kernel_size = (3, 3), activation = 'relu', padding = 'same')(x)\n",
    "x = layers.MaxPool2D(pool_size = (2, 2))(x)\n",
    "# Fully Connected layer        \n",
    "x = layers.Flatten()(x)\n",
    "x = layers.Dense(64)(x)\n",
    "outputs = layers.Dense(num_classes, activation=\"softmax\")(x)\n",
    "\n",
    "model = models.Model(inputs=inputs, outputs=outputs)\n",
    "\n",
    "model.summary()"
   ]
  },
  {
   "cell_type": "code",
   "execution_count": 7,
   "metadata": {},
   "outputs": [],
   "source": [
    "# Compile Model\n",
    "model.compile(loss='categorical_crossentropy', optimizer='adam', metrics=['accuracy'])"
   ]
  },
  {
   "cell_type": "code",
   "execution_count": 8,
   "metadata": {},
   "outputs": [
    {
     "name": "stdout",
     "output_type": "stream",
     "text": [
      "Epoch 1/20\n",
      "469/469 [==============================] - 22s 45ms/step - loss: 0.3087 - accuracy: 0.9092 - val_loss: 0.0946 - val_accuracy: 0.9692\n",
      "Epoch 2/20\n",
      "469/469 [==============================] - 20s 42ms/step - loss: 0.0853 - accuracy: 0.9741 - val_loss: 0.0605 - val_accuracy: 0.9803\n",
      "Epoch 3/20\n",
      "469/469 [==============================] - 20s 42ms/step - loss: 0.0639 - accuracy: 0.9803 - val_loss: 0.0530 - val_accuracy: 0.9828\n",
      "Epoch 4/20\n",
      "469/469 [==============================] - 21s 45ms/step - loss: 0.0537 - accuracy: 0.9836 - val_loss: 0.0429 - val_accuracy: 0.9854\n",
      "Epoch 5/20\n",
      "469/469 [==============================] - 18s 39ms/step - loss: 0.0470 - accuracy: 0.9856 - val_loss: 0.0444 - val_accuracy: 0.9849\n",
      "Epoch 6/20\n",
      "469/469 [==============================] - 19s 41ms/step - loss: 0.0408 - accuracy: 0.9875 - val_loss: 0.0368 - val_accuracy: 0.9874\n",
      "Epoch 7/20\n",
      "469/469 [==============================] - 20s 42ms/step - loss: 0.0367 - accuracy: 0.9886 - val_loss: 0.0428 - val_accuracy: 0.9850\n",
      "Epoch 8/20\n",
      "469/469 [==============================] - 19s 40ms/step - loss: 0.0327 - accuracy: 0.9901 - val_loss: 0.0380 - val_accuracy: 0.9865\n",
      "Epoch 9/20\n",
      "469/469 [==============================] - 20s 43ms/step - loss: 0.0304 - accuracy: 0.9904 - val_loss: 0.0391 - val_accuracy: 0.9865\n",
      "Epoch 10/20\n",
      "469/469 [==============================] - 19s 40ms/step - loss: 0.0264 - accuracy: 0.9915 - val_loss: 0.0360 - val_accuracy: 0.9875\n",
      "Epoch 11/20\n",
      "469/469 [==============================] - 20s 43ms/step - loss: 0.0252 - accuracy: 0.9921 - val_loss: 0.0339 - val_accuracy: 0.9887\n",
      "Epoch 12/20\n",
      "469/469 [==============================] - 20s 42ms/step - loss: 0.0220 - accuracy: 0.9928 - val_loss: 0.0365 - val_accuracy: 0.9877\n",
      "Epoch 13/20\n",
      "469/469 [==============================] - 20s 42ms/step - loss: 0.0208 - accuracy: 0.9935 - val_loss: 0.0459 - val_accuracy: 0.9865\n",
      "Epoch 14/20\n",
      "469/469 [==============================] - 20s 42ms/step - loss: 0.0197 - accuracy: 0.9933 - val_loss: 0.0400 - val_accuracy: 0.9878\n",
      "Epoch 15/20\n",
      "469/469 [==============================] - 19s 41ms/step - loss: 0.0184 - accuracy: 0.9939 - val_loss: 0.0330 - val_accuracy: 0.9891\n",
      "Epoch 16/20\n",
      "469/469 [==============================] - 20s 42ms/step - loss: 0.0173 - accuracy: 0.9945 - val_loss: 0.0400 - val_accuracy: 0.9875\n",
      "Epoch 17/20\n",
      "469/469 [==============================] - 19s 41ms/step - loss: 0.0152 - accuracy: 0.9948 - val_loss: 0.0386 - val_accuracy: 0.9885\n",
      "Epoch 18/20\n",
      "469/469 [==============================] - 19s 41ms/step - loss: 0.0143 - accuracy: 0.9954 - val_loss: 0.0419 - val_accuracy: 0.9877\n",
      "Epoch 19/20\n",
      "469/469 [==============================] - 20s 42ms/step - loss: 0.0136 - accuracy: 0.9960 - val_loss: 0.0438 - val_accuracy: 0.9879\n",
      "Epoch 20/20\n",
      "469/469 [==============================] - 20s 42ms/step - loss: 0.0123 - accuracy: 0.9961 - val_loss: 0.0508 - val_accuracy: 0.9864\n"
     ]
    }
   ],
   "source": [
    "# Train Model\n",
    "history = model.fit(x_train, y_train, batch_size=128, epochs=20, validation_data=(x_test, y_test))"
   ]
  },
  {
   "cell_type": "code",
   "execution_count": 9,
   "metadata": {},
   "outputs": [
    {
     "name": "stderr",
     "output_type": "stream",
     "text": [
      "2022-03-15 12:21:11.247322: W tensorflow/python/util/util.cc:368] Sets are not currently considered sequences, but this may change in the future, so consider avoiding using them.\n"
     ]
    },
    {
     "name": "stdout",
     "output_type": "stream",
     "text": [
      "INFO:tensorflow:Assets written to: ram://30cb7054-6e9a-4655-9fdf-526e6720ef97/assets\n"
     ]
    }
   ],
   "source": [
    "'''import pickle\n",
    "filename = 'finalized_model.sav'\n",
    "pickle.dump(model, open(filename, 'wb'))'''"
   ]
  },
  {
   "cell_type": "code",
   "execution_count": 10,
   "metadata": {},
   "outputs": [
    {
     "data": {
      "text/plain": [
       "<bound method Model.save of <keras.engine.functional.Functional object at 0x7f48828512b0>>"
      ]
     },
     "execution_count": 10,
     "metadata": {},
     "output_type": "execute_result"
    }
   ],
   "source": [
    "model.save\n",
    "#Yahan se .h5 bani hai"
   ]
  },
  {
   "cell_type": "code",
   "execution_count": 11,
   "metadata": {},
   "outputs": [
    {
     "name": "stdout",
     "output_type": "stream",
     "text": [
      "313/313 [==============================] - 2s 6ms/step - loss: 0.0525 - accuracy: 0.9872\n",
      "Test loss:  0.05248575285077095\n",
      "Test accuracy:  0.9872000217437744\n"
     ]
    }
   ],
   "source": [
    "score = model.evaluate(x_test, y_test)\n",
    "print('Test loss: ', score[0])\n",
    "print('Test accuracy: ', score[1])"
   ]
  },
  {
   "cell_type": "code",
   "execution_count": 12,
   "metadata": {},
   "outputs": [
    {
     "name": "stdout",
     "output_type": "stream",
     "text": [
      "[7]\n"
     ]
    }
   ],
   "source": [
    "y_pred = model.predict(x_test[0].reshape(-1,28,28,1)).argmax(axis=1)\n",
    "print(y_pred)"
   ]
  },
  {
   "cell_type": "code",
   "execution_count": 13,
   "metadata": {},
   "outputs": [
    {
     "name": "stdout",
     "output_type": "stream",
     "text": [
      "Collecting tinymlgen\n",
      "  Downloading tinymlgen-0.2.tar.gz (1.5 kB)\n",
      "Collecting hexdump\n",
      "  Downloading hexdump-3.3.zip (12 kB)\n",
      "Requirement already satisfied: tensorflow in /home/kanav/.local/lib/python3.8/site-packages (from tinymlgen) (2.8.0)\n",
      "Requirement already satisfied: flatbuffers>=1.12 in /home/kanav/.local/lib/python3.8/site-packages (from tensorflow->tinymlgen) (2.0)\n",
      "Requirement already satisfied: tensorboard<2.9,>=2.8 in /home/kanav/.local/lib/python3.8/site-packages (from tensorflow->tinymlgen) (2.8.0)\n",
      "Requirement already satisfied: protobuf>=3.9.2 in /home/kanav/.local/lib/python3.8/site-packages (from tensorflow->tinymlgen) (3.19.4)\n",
      "Requirement already satisfied: absl-py>=0.4.0 in /home/kanav/.local/lib/python3.8/site-packages (from tensorflow->tinymlgen) (1.0.0)\n",
      "Requirement already satisfied: wrapt>=1.11.0 in /home/kanav/.local/lib/python3.8/site-packages (from tensorflow->tinymlgen) (1.14.0)\n",
      "Requirement already satisfied: tf-estimator-nightly==2.8.0.dev2021122109 in /home/kanav/.local/lib/python3.8/site-packages (from tensorflow->tinymlgen) (2.8.0.dev2021122109)\n",
      "Requirement already satisfied: astunparse>=1.6.0 in /home/kanav/.local/lib/python3.8/site-packages (from tensorflow->tinymlgen) (1.6.3)\n",
      "Requirement already satisfied: keras<2.9,>=2.8.0rc0 in /home/kanav/.local/lib/python3.8/site-packages (from tensorflow->tinymlgen) (2.8.0)\n",
      "Requirement already satisfied: opt-einsum>=2.3.2 in /home/kanav/.local/lib/python3.8/site-packages (from tensorflow->tinymlgen) (3.3.0)\n",
      "Requirement already satisfied: typing-extensions>=3.6.6 in /home/kanav/.local/lib/python3.8/site-packages (from tensorflow->tinymlgen) (4.1.1)\n",
      "Requirement already satisfied: h5py>=2.9.0 in /home/kanav/.local/lib/python3.8/site-packages (from tensorflow->tinymlgen) (3.6.0)\n",
      "Requirement already satisfied: setuptools in /usr/lib/python3/dist-packages (from tensorflow->tinymlgen) (45.2.0)\n",
      "Requirement already satisfied: google-pasta>=0.1.1 in /home/kanav/.local/lib/python3.8/site-packages (from tensorflow->tinymlgen) (0.2.0)\n",
      "Requirement already satisfied: grpcio<2.0,>=1.24.3 in /home/kanav/.local/lib/python3.8/site-packages (from tensorflow->tinymlgen) (1.44.0)\n",
      "Requirement already satisfied: gast>=0.2.1 in /home/kanav/.local/lib/python3.8/site-packages (from tensorflow->tinymlgen) (0.5.3)\n",
      "Requirement already satisfied: termcolor>=1.1.0 in /home/kanav/.local/lib/python3.8/site-packages (from tensorflow->tinymlgen) (1.1.0)\n",
      "Requirement already satisfied: tensorflow-io-gcs-filesystem>=0.23.1 in /home/kanav/.local/lib/python3.8/site-packages (from tensorflow->tinymlgen) (0.24.0)\n",
      "Requirement already satisfied: numpy>=1.20 in /home/kanav/.local/lib/python3.8/site-packages (from tensorflow->tinymlgen) (1.22.3)\n",
      "Requirement already satisfied: libclang>=9.0.1 in /home/kanav/.local/lib/python3.8/site-packages (from tensorflow->tinymlgen) (13.0.0)\n",
      "Requirement already satisfied: keras-preprocessing>=1.1.1 in /home/kanav/.local/lib/python3.8/site-packages (from tensorflow->tinymlgen) (1.1.2)\n",
      "Requirement already satisfied: six>=1.12.0 in /usr/lib/python3/dist-packages (from tensorflow->tinymlgen) (1.14.0)\n",
      "Requirement already satisfied: tensorboard-data-server<0.7.0,>=0.6.0 in /home/kanav/.local/lib/python3.8/site-packages (from tensorboard<2.9,>=2.8->tensorflow->tinymlgen) (0.6.1)\n",
      "Requirement already satisfied: markdown>=2.6.8 in /home/kanav/.local/lib/python3.8/site-packages (from tensorboard<2.9,>=2.8->tensorflow->tinymlgen) (3.3.6)\n",
      "Requirement already satisfied: wheel>=0.26 in /usr/lib/python3/dist-packages (from tensorboard<2.9,>=2.8->tensorflow->tinymlgen) (0.34.2)\n",
      "Requirement already satisfied: google-auth-oauthlib<0.5,>=0.4.1 in /home/kanav/.local/lib/python3.8/site-packages (from tensorboard<2.9,>=2.8->tensorflow->tinymlgen) (0.4.6)\n",
      "Requirement already satisfied: tensorboard-plugin-wit>=1.6.0 in /home/kanav/.local/lib/python3.8/site-packages (from tensorboard<2.9,>=2.8->tensorflow->tinymlgen) (1.8.1)\n",
      "Requirement already satisfied: werkzeug>=0.11.15 in /home/kanav/.local/lib/python3.8/site-packages (from tensorboard<2.9,>=2.8->tensorflow->tinymlgen) (2.0.3)\n",
      "Requirement already satisfied: requests<3,>=2.21.0 in /usr/lib/python3/dist-packages (from tensorboard<2.9,>=2.8->tensorflow->tinymlgen) (2.22.0)\n",
      "Requirement already satisfied: google-auth<3,>=1.6.3 in /home/kanav/.local/lib/python3.8/site-packages (from tensorboard<2.9,>=2.8->tensorflow->tinymlgen) (2.6.0)\n",
      "Requirement already satisfied: importlib-metadata>=4.4; python_version < \"3.10\" in /home/kanav/.local/lib/python3.8/site-packages (from markdown>=2.6.8->tensorboard<2.9,>=2.8->tensorflow->tinymlgen) (4.11.3)\n",
      "Requirement already satisfied: requests-oauthlib>=0.7.0 in /home/kanav/.local/lib/python3.8/site-packages (from google-auth-oauthlib<0.5,>=0.4.1->tensorboard<2.9,>=2.8->tensorflow->tinymlgen) (1.3.1)\n",
      "Requirement already satisfied: rsa<5,>=3.1.4; python_version >= \"3.6\" in /home/kanav/.local/lib/python3.8/site-packages (from google-auth<3,>=1.6.3->tensorboard<2.9,>=2.8->tensorflow->tinymlgen) (4.8)\n",
      "Requirement already satisfied: cachetools<6.0,>=2.0.0 in /home/kanav/.local/lib/python3.8/site-packages (from google-auth<3,>=1.6.3->tensorboard<2.9,>=2.8->tensorflow->tinymlgen) (5.0.0)\n",
      "Requirement already satisfied: pyasn1-modules>=0.2.1 in /home/kanav/.local/lib/python3.8/site-packages (from google-auth<3,>=1.6.3->tensorboard<2.9,>=2.8->tensorflow->tinymlgen) (0.2.8)\n",
      "Requirement already satisfied: zipp>=0.5 in /home/kanav/.local/lib/python3.8/site-packages (from importlib-metadata>=4.4; python_version < \"3.10\"->markdown>=2.6.8->tensorboard<2.9,>=2.8->tensorflow->tinymlgen) (3.7.0)\n",
      "Requirement already satisfied: oauthlib>=3.0.0 in /usr/lib/python3/dist-packages (from requests-oauthlib>=0.7.0->google-auth-oauthlib<0.5,>=0.4.1->tensorboard<2.9,>=2.8->tensorflow->tinymlgen) (3.1.0)\n",
      "Requirement already satisfied: pyasn1>=0.1.3 in /home/kanav/.local/lib/python3.8/site-packages (from rsa<5,>=3.1.4; python_version >= \"3.6\"->google-auth<3,>=1.6.3->tensorboard<2.9,>=2.8->tensorflow->tinymlgen) (0.4.8)\n",
      "Building wheels for collected packages: tinymlgen, hexdump\n",
      "  Building wheel for tinymlgen (setup.py) ... \u001b[?25ldone\n",
      "\u001b[?25h  Created wheel for tinymlgen: filename=tinymlgen-0.2-py3-none-any.whl size=2242 sha256=3e7de2e79f9a6668dfb64030ea1118e25c796c8ef295cb4e5126f4cffe2aaf51\n",
      "  Stored in directory: /home/kanav/.cache/pip/wheels/7a/a1/f5/2884c682bcacd0a96875431737d5c792e8dd0a1e4e163512be\n",
      "  Building wheel for hexdump (setup.py) ... \u001b[?25ldone\n",
      "\u001b[?25h  Created wheel for hexdump: filename=hexdump-3.3-py3-none-any.whl size=8911 sha256=44929c1f610db4ef5332ea2c160f5ee9ada5a6634ac0c00e4f36e0147d276841\n",
      "  Stored in directory: /home/kanav/.cache/pip/wheels/7f/b7/72/1cc327e831ffef71bca1b0ca5e40b68471875f740ec9270c0f\n",
      "Successfully built tinymlgen hexdump\n",
      "Installing collected packages: hexdump, tinymlgen\n",
      "Successfully installed hexdump-3.3 tinymlgen-0.2\n"
     ]
    }
   ],
   "source": [
    "#!pip install tinymlgen"
   ]
  },
  {
   "cell_type": "code",
   "execution_count": 9,
   "metadata": {},
   "outputs": [
    {
     "name": "stderr",
     "output_type": "stream",
     "text": [
      "2022-03-15 13:20:31.427100: W tensorflow/python/util/util.cc:368] Sets are not currently considered sequences, but this may change in the future, so consider avoiding using them.\n"
     ]
    },
    {
     "name": "stdout",
     "output_type": "stream",
     "text": [
      "INFO:tensorflow:Assets written to: /tmp/tmpnm5birgr/assets\n"
     ]
    },
    {
     "name": "stderr",
     "output_type": "stream",
     "text": [
      "2022-03-15 13:20:33.172071: W tensorflow/compiler/mlir/lite/python/tf_tfl_flatbuffer_helpers.cc:357] Ignored output_format.\n",
      "2022-03-15 13:20:33.172149: W tensorflow/compiler/mlir/lite/python/tf_tfl_flatbuffer_helpers.cc:360] Ignored drop_control_dependency.\n",
      "WARNING:absl:Buffer deduplication procedure will be skipped when flatbuffer library is not properly loaded\n",
      "2022-03-15 13:20:33.173412: I tensorflow/cc/saved_model/reader.cc:43] Reading SavedModel from: /tmp/tmpnm5birgr\n",
      "2022-03-15 13:20:33.176426: I tensorflow/cc/saved_model/reader.cc:78] Reading meta graph with tags { serve }\n",
      "2022-03-15 13:20:33.176504: I tensorflow/cc/saved_model/reader.cc:119] Reading SavedModel debug info (if present) from: /tmp/tmpnm5birgr\n",
      "2022-03-15 13:20:33.186018: I tensorflow/cc/saved_model/loader.cc:228] Restoring SavedModel bundle.\n",
      "2022-03-15 13:20:33.274173: I tensorflow/cc/saved_model/loader.cc:212] Running initialization op on SavedModel bundle at path: /tmp/tmpnm5birgr\n",
      "2022-03-15 13:20:33.304921: I tensorflow/cc/saved_model/loader.cc:301] SavedModel load for tags { serve }; Status: success: OK. Took 131510 microseconds.\n",
      "2022-03-15 13:20:33.347432: I tensorflow/compiler/mlir/tensorflow/utils/dump_mlir_util.cc:237] disabling MLIR crash reproducer, set env var `MLIR_CRASH_REPRODUCER_DIRECTORY` to enable.\n"
     ]
    }
   ],
   "source": [
    "converter = tf.lite.TFLiteConverter.from_keras_model(model)\n",
    "tflite_model = converter.convert()\n",
    "\n",
    "# Save the model to disk\n",
    "tflite_models_dir = pathlib.Path(\"/tmp/mnist_tflite_models/\")\n",
    "tflite_models_dir.mkdir(exist_ok=True, parents=True)\n",
    "\n",
    "\n",
    "#!xxd -i mnist_cnn_quantized.tflite > mnist_cnn_quantized.cc"
   ]
  },
  {
   "cell_type": "code",
   "execution_count": 10,
   "metadata": {},
   "outputs": [
    {
     "data": {
      "text/plain": [
       "216076"
      ]
     },
     "execution_count": 10,
     "metadata": {},
     "output_type": "execute_result"
    }
   ],
   "source": [
    "tflite_model_file = tflite_models_dir/\"mnist_model.tflite\"\n",
    "tflite_model_file.write_bytes(tflite_model)"
   ]
  },
  {
   "cell_type": "code",
   "execution_count": 11,
   "metadata": {},
   "outputs": [],
   "source": [
    "converter.optimizations = [tf.lite.Optimize.DEFAULT]\n",
    "converter.target_spec.supported_types = [tf.float16]\n"
   ]
  },
  {
   "cell_type": "code",
   "execution_count": 12,
   "metadata": {},
   "outputs": [
    {
     "name": "stdout",
     "output_type": "stream",
     "text": [
      "INFO:tensorflow:Assets written to: /tmp/tmpf21cgfm8/assets\n"
     ]
    },
    {
     "name": "stderr",
     "output_type": "stream",
     "text": [
      "INFO:tensorflow:Assets written to: /tmp/tmpf21cgfm8/assets\n",
      "2022-03-15 13:20:52.820506: W tensorflow/compiler/mlir/lite/python/tf_tfl_flatbuffer_helpers.cc:357] Ignored output_format.\n",
      "2022-03-15 13:20:52.820610: W tensorflow/compiler/mlir/lite/python/tf_tfl_flatbuffer_helpers.cc:360] Ignored drop_control_dependency.\n",
      "WARNING:absl:Buffer deduplication procedure will be skipped when flatbuffer library is not properly loaded\n",
      "2022-03-15 13:20:52.821180: I tensorflow/cc/saved_model/reader.cc:43] Reading SavedModel from: /tmp/tmpf21cgfm8\n",
      "2022-03-15 13:20:52.826954: I tensorflow/cc/saved_model/reader.cc:78] Reading meta graph with tags { serve }\n",
      "2022-03-15 13:20:52.827044: I tensorflow/cc/saved_model/reader.cc:119] Reading SavedModel debug info (if present) from: /tmp/tmpf21cgfm8\n",
      "2022-03-15 13:20:52.841981: I tensorflow/cc/saved_model/loader.cc:228] Restoring SavedModel bundle.\n",
      "2022-03-15 13:20:53.040413: I tensorflow/cc/saved_model/loader.cc:212] Running initialization op on SavedModel bundle at path: /tmp/tmpf21cgfm8\n",
      "2022-03-15 13:20:53.109842: I tensorflow/cc/saved_model/loader.cc:301] SavedModel load for tags { serve }; Status: success: OK. Took 288664 microseconds.\n"
     ]
    },
    {
     "data": {
      "text/plain": [
       "110480"
      ]
     },
     "execution_count": 12,
     "metadata": {},
     "output_type": "execute_result"
    }
   ],
   "source": [
    "tflite_fp16_model = converter.convert()\n",
    "tflite_model_fp16_file = tflite_models_dir/\"mnist_model_quant_f16.tflite\"\n",
    "tflite_model_fp16_file.write_bytes(tflite_fp16_model)\n"
   ]
  },
  {
   "cell_type": "code",
   "execution_count": 13,
   "metadata": {},
   "outputs": [
    {
     "name": "stdout",
     "output_type": "stream",
     "text": [
      "total 320K\n",
      "-rw-rw-r-- 1 kanav kanav 108K Mar 15 13:20 mnist_model_quant_f16.tflite\n",
      "-rw-rw-r-- 1 kanav kanav 212K Mar 15 13:20 mnist_model.tflite\n"
     ]
    }
   ],
   "source": [
    "!ls -lh {tflite_models_dir}\n"
   ]
  },
  {
   "cell_type": "code",
   "execution_count": 15,
   "metadata": {},
   "outputs": [
    {
     "data": {
      "text/plain": [
       "PosixPath('/tmp/mnist_tflite_models')"
      ]
     },
     "execution_count": 15,
     "metadata": {},
     "output_type": "execute_result"
    }
   ],
   "source": [
    "tflite_models_dir.absolute()\n"
   ]
  },
  {
   "cell_type": "code",
   "execution_count": 15,
   "metadata": {},
   "outputs": [
    {
     "name": "stdout",
     "output_type": "stream",
     "text": [
      "INFO:tensorflow:Assets written to: /tmp/tmpkvfzsebe/assets\n"
     ]
    },
    {
     "name": "stderr",
     "output_type": "stream",
     "text": [
      "INFO:tensorflow:Assets written to: /tmp/tmpkvfzsebe/assets\n",
      "2022-03-15 12:21:24.568719: W tensorflow/compiler/mlir/lite/python/tf_tfl_flatbuffer_helpers.cc:357] Ignored output_format.\n",
      "2022-03-15 12:21:24.568765: W tensorflow/compiler/mlir/lite/python/tf_tfl_flatbuffer_helpers.cc:360] Ignored drop_control_dependency.\n",
      "WARNING:absl:Buffer deduplication procedure will be skipped when flatbuffer library is not properly loaded\n",
      "2022-03-15 12:21:24.569113: I tensorflow/cc/saved_model/reader.cc:43] Reading SavedModel from: /tmp/tmpkvfzsebe\n",
      "2022-03-15 12:21:24.572883: I tensorflow/cc/saved_model/reader.cc:78] Reading meta graph with tags { serve }\n",
      "2022-03-15 12:21:24.572904: I tensorflow/cc/saved_model/reader.cc:119] Reading SavedModel debug info (if present) from: /tmp/tmpkvfzsebe\n",
      "2022-03-15 12:21:24.578245: I tensorflow/cc/saved_model/loader.cc:228] Restoring SavedModel bundle.\n",
      "2022-03-15 12:21:24.650013: I tensorflow/cc/saved_model/loader.cc:212] Running initialization op on SavedModel bundle at path: /tmp/tmpkvfzsebe\n",
      "2022-03-15 12:21:24.678662: I tensorflow/cc/saved_model/loader.cc:301] SavedModel load for tags { serve }; Status: success: OK. Took 109553 microseconds.\n"
     ]
    }
   ],
   "source": [
    "from tinymlgen import port\n",
    "c_code = port(model, variable_name='mnist_cnn', pretty_print=True, optimize=False) \n",
    "\n",
    "with open('mnist_cnn.h', 'w') as f:\n",
    "    print(c_code, file=f)"
   ]
  },
  {
   "cell_type": "code",
   "execution_count": 16,
   "metadata": {},
   "outputs": [],
   "source": [
    "# load raw x_test\n",
    "(x_train, y_train), (x_test, y_test) = datasets.mnist.load_data()\n",
    "    \n",
    "with open('x_test.h', 'w') as f:\n",
    "    print(\"unsigned char x_test_dat[784] = {\", file=f)    \n",
    "    for i in range(28):\n",
    "        s = \"       \"\n",
    "        for j in range(28):\n",
    "            s+=str(x_test[0][i][j])+', ' # select x_test[0]\n",
    "        print(s, file=f)\n",
    "    print(\"};\", file=f)\n",
    "f.close()"
   ]
  },
  {
   "cell_type": "code",
   "execution_count": 32,
   "metadata": {},
   "outputs": [],
   "source": [
    "converter.optimizations = [tf.lite.Optimize.DEFAULT]\n",
    "converter.target_spec.supported_types = [tf.float16]"
   ]
  },
  {
   "cell_type": "code",
   "execution_count": 34,
   "metadata": {},
   "outputs": [
    {
     "name": "stdout",
     "output_type": "stream",
     "text": [
      "INFO:tensorflow:Assets written to: /tmp/tmpzx4sxzkj/assets\n"
     ]
    },
    {
     "name": "stderr",
     "output_type": "stream",
     "text": [
      "INFO:tensorflow:Assets written to: /tmp/tmpzx4sxzkj/assets\n",
      "2022-03-15 12:47:58.274083: W tensorflow/compiler/mlir/lite/python/tf_tfl_flatbuffer_helpers.cc:357] Ignored output_format.\n",
      "2022-03-15 12:47:58.274125: W tensorflow/compiler/mlir/lite/python/tf_tfl_flatbuffer_helpers.cc:360] Ignored drop_control_dependency.\n",
      "WARNING:absl:Buffer deduplication procedure will be skipped when flatbuffer library is not properly loaded\n",
      "2022-03-15 12:47:58.274399: I tensorflow/cc/saved_model/reader.cc:43] Reading SavedModel from: /tmp/tmpzx4sxzkj\n",
      "2022-03-15 12:47:58.276595: I tensorflow/cc/saved_model/reader.cc:78] Reading meta graph with tags { serve }\n",
      "2022-03-15 12:47:58.276617: I tensorflow/cc/saved_model/reader.cc:119] Reading SavedModel debug info (if present) from: /tmp/tmpzx4sxzkj\n",
      "2022-03-15 12:47:58.281236: I tensorflow/cc/saved_model/loader.cc:228] Restoring SavedModel bundle.\n",
      "2022-03-15 12:47:58.350344: I tensorflow/cc/saved_model/loader.cc:212] Running initialization op on SavedModel bundle at path: /tmp/tmpzx4sxzkj\n",
      "2022-03-15 12:47:58.374866: I tensorflow/cc/saved_model/loader.cc:301] SavedModel load for tags { serve }; Status: success: OK. Took 100468 microseconds.\n"
     ]
    },
    {
     "data": {
      "text/plain": [
       "216076"
      ]
     },
     "execution_count": 34,
     "metadata": {},
     "output_type": "execute_result"
    }
   ],
   "source": [
    "tflite_fp16_model = converter.convert()\n",
    "tflite_model_fp16_file = \"mnist_model_quant_f16.tflite\"\n",
    "open(\"mnist_model_quant_f16.tflite\", \"wb\").write(tflite_model)\n"
   ]
  },
  {
   "cell_type": "code",
   "execution_count": 17,
   "metadata": {},
   "outputs": [
    {
     "name": "stdout",
     "output_type": "stream",
     "text": [
      "/bin/bash: line 0: type: x_test.h: not found\n"
     ]
    }
   ],
   "source": [
    "!type x_test.h"
   ]
  }
 ],
 "metadata": {
  "interpreter": {
   "hash": "72b919f5e1d4c95d4a698cd52128d70e2167d4b021b3d820e56247aca9475a23"
  },
  "kernelspec": {
   "display_name": "Python 3.9.7 ('ml')",
   "language": "python",
   "name": "python3"
  },
  "language_info": {
   "codemirror_mode": {
    "name": "ipython",
    "version": 3
   },
   "file_extension": ".py",
   "mimetype": "text/x-python",
   "name": "python",
   "nbconvert_exporter": "python",
   "pygments_lexer": "ipython3",
   "version": "3.8.10"
  },
  "orig_nbformat": 4
 },
 "nbformat": 4,
 "nbformat_minor": 2
}
